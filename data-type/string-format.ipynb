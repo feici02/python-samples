{
 "cells": [
  {
   "cell_type": "markdown",
   "metadata": {},
   "source": [
    "## method 1"
   ]
  },
  {
   "cell_type": "code",
   "execution_count": 6,
   "metadata": {},
   "outputs": [
    {
     "name": "stdout",
     "output_type": "stream",
     "text": [
      "Hello, I am Jason and I am 30 years old.\n"
     ]
    }
   ],
   "source": [
    "def hello(name, age):\n",
    "    return 'Hello, I am %s and I am %d years old.' % (name, age)\n",
    "\n",
    "print(hello('Jason', 30))"
   ]
  },
  {
   "cell_type": "markdown",
   "metadata": {},
   "source": [
    "## method 2"
   ]
  },
  {
   "cell_type": "code",
   "execution_count": 5,
   "metadata": {},
   "outputs": [
    {
     "name": "stdout",
     "output_type": "stream",
     "text": [
      "Hello, I am Jason and I am 30 years old.\n",
      "Hello, I am Judy and I am 20 years old.\n"
     ]
    }
   ],
   "source": [
    "def hello2(name, age):\n",
    "    return 'Hello, I am {} and I am {} years old.'.format(name, age)\n",
    "\n",
    "print(hello2('Jason', 30))\n",
    "print(hello2(age=20, name='Judy'))"
   ]
  },
  {
   "cell_type": "code",
   "execution_count": null,
   "metadata": {},
   "outputs": [],
   "source": [
    "def hello3(name, age):\n",
    "    return 'Hello, I am {myname} and I am {myage} years old.'.format(myname=name, myage=age)\n",
    "\n",
    "print(hello3('Jason', 30))"
   ]
  },
  {
   "cell_type": "markdown",
   "metadata": {},
   "source": [
    "## method 3"
   ]
  },
  {
   "cell_type": "code",
   "execution_count": 21,
   "metadata": {},
   "outputs": [
    {
     "name": "stdout",
     "output_type": "stream",
     "text": [
      "Hello, I am Jason and I am 30 years old.\n"
     ]
    }
   ],
   "source": [
    "def hello4(name, age):\n",
    "    return f'Hello, I am {name} and I am {age} years old.'\n",
    "\n",
    "print(hello4('Jason', 30))"
   ]
  },
  {
   "cell_type": "markdown",
   "metadata": {},
   "source": [
    "## method 4"
   ]
  },
  {
   "cell_type": "code",
   "execution_count": 22,
   "metadata": {},
   "outputs": [
    {
     "name": "stdout",
     "output_type": "stream",
     "text": [
      "Hello, I am Jason and I am 30 years old.\n"
     ]
    }
   ],
   "source": [
    "# for user-supplied string\n",
    "def hello5(name, age):\n",
    "    from string import Template\n",
    "    t = Template('Hello, I am $name and I am $age years old.')\n",
    "    return t.substitute(name=name, age=age)\n",
    "\n",
    "print(hello5('Jason', 30))"
   ]
  }
 ],
 "metadata": {
  "kernelspec": {
   "display_name": "Python 3",
   "language": "python",
   "name": "python3"
  },
  "language_info": {
   "codemirror_mode": {
    "name": "ipython",
    "version": 3
   },
   "file_extension": ".py",
   "mimetype": "text/x-python",
   "name": "python",
   "nbconvert_exporter": "python",
   "pygments_lexer": "ipython3",
   "version": "3.6.4"
  }
 },
 "nbformat": 4,
 "nbformat_minor": 2
}
