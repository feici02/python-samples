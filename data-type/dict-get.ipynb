{
 "cells": [
  {
   "cell_type": "code",
   "execution_count": 4,
   "metadata": {},
   "outputs": [
    {
     "name": "stdout",
     "output_type": "stream",
     "text": [
      "The type of Jason is admin.\n",
      "The type of Judy is user.\n"
     ]
    }
   ],
   "source": [
    "# get method can provide a default value\n",
    "# if the key doesn't exist.\n",
    "\n",
    "users = [ {'name': 'Jason', 'type': 'admin'}, {'name': 'Judy'} ]\n",
    "\n",
    "for user in users:\n",
    "    print('The type of {} is {}.'.format(user.get('name'), user.get('type', 'user')))"
   ]
  }
 ],
 "metadata": {
  "kernelspec": {
   "display_name": "Python 3",
   "language": "python",
   "name": "python3"
  },
  "language_info": {
   "codemirror_mode": {
    "name": "ipython",
    "version": 3
   },
   "file_extension": ".py",
   "mimetype": "text/x-python",
   "name": "python",
   "nbconvert_exporter": "python",
   "pygments_lexer": "ipython3",
   "version": "3.6.4"
  }
 },
 "nbformat": 4,
 "nbformat_minor": 2
}
